{
 "cells": [
  {
   "cell_type": "code",
   "execution_count": 1,
   "id": "7f5816aa",
   "metadata": {},
   "outputs": [],
   "source": [
    "# import numpy as np\n",
    "# import matplotlib.pyplot as plt\n",
    "# import os\n",
    "# import cv2\n",
    "\n",
    "\n",
    "\n",
    "\n",
    "# DATADIR = \"C:/Datasets/PetImages\"\n",
    "# Categories = [\"Dog\", \"Cat\"]\n",
    "# for category in Categories:\n",
    "#     path = os.path.join( DATADIR, category)\n",
    "#     for img in os.listdir(path):\n",
    "#         img_array = cv2.imread(os.path.join(path,img), cv2.IMREAD_GRAYSCALE)\n",
    "#         plt.imshow(img_array, cmap=\"gray\")\n",
    "#         plt.show()\n",
    "#         break\n",
    "#     break"
   ]
  },
  {
   "cell_type": "code",
   "execution_count": 2,
   "id": "9dc4e41c",
   "metadata": {},
   "outputs": [],
   "source": [
    "# IMG_SIZE = 50\n",
    "# new_array = cv2.resize(img_array, (IMG_SIZE, IMG_SIZE))\n",
    "# plt.imshow(new_array, cmap=\"gray\")\n",
    "# plt.show()"
   ]
  },
  {
   "cell_type": "code",
   "execution_count": 3,
   "id": "99cf4b31",
   "metadata": {},
   "outputs": [],
   "source": [
    "# training_data=[]\n",
    "\n",
    "# def create_training_data():\n",
    "#     for category in Categories:\n",
    "#         path = os.path.join( DATADIR, category)\n",
    "#         class_num = Categories.index(category)\n",
    "#         for img in os.listdir(path):\n",
    "#             try:\n",
    "#                 img_array = cv2.imread(os.path.join(path,img), cv2.IMREAD_GRAYSCALE)\n",
    "#                 new_array = cv2.resize(img_array, (IMG_SIZE, IMG_SIZE))\n",
    "#                 training_data.append([new_array, class_num])\n",
    "#             except Exception as e:\n",
    "#                 pass\n",
    "            \n",
    "# create_training_data()"
   ]
  },
  {
   "cell_type": "code",
   "execution_count": 4,
   "id": "eea6e9bd",
   "metadata": {},
   "outputs": [],
   "source": [
    "# print(len(training_data))"
   ]
  },
  {
   "cell_type": "code",
   "execution_count": 5,
   "id": "e7c45289",
   "metadata": {},
   "outputs": [],
   "source": [
    "# import random\n",
    "# random.shuffle(training_data)"
   ]
  },
  {
   "cell_type": "code",
   "execution_count": 6,
   "id": "780aaa47",
   "metadata": {},
   "outputs": [],
   "source": [
    "# for sample in training_data[:10]:\n",
    "#     print(sample[1])"
   ]
  },
  {
   "cell_type": "code",
   "execution_count": 7,
   "id": "4950c0b9",
   "metadata": {},
   "outputs": [],
   "source": [
    "# X=[]\n",
    "# y=[]"
   ]
  },
  {
   "cell_type": "code",
   "execution_count": 8,
   "id": "c381f7a5",
   "metadata": {},
   "outputs": [],
   "source": [
    "# for features, label in training_data:\n",
    "#     X.append(features)\n",
    "#     y.append(label)\n",
    "\n",
    "# X = np.array(X).reshape(-1, IMG_SIZE, IMG_SIZE, 1)\n",
    "# y = np.array(y).reshape(-1)"
   ]
  },
  {
   "cell_type": "code",
   "execution_count": 9,
   "id": "d168ae93",
   "metadata": {},
   "outputs": [],
   "source": [
    "# import pickle"
   ]
  },
  {
   "cell_type": "code",
   "execution_count": 10,
   "id": "2562bccb",
   "metadata": {},
   "outputs": [],
   "source": [
    "# pickle_out = open(\"X.pickle\",\"wb\")\n",
    "# pickle.dump(X,pickle_out)\n",
    "# pickle_out.close()\n",
    "\n",
    "# pickle_out = open(\"y.pickle\",\"wb\")\n",
    "# pickle.dump(y,pickle_out)\n",
    "# pickle_out.close()\n",
    "\n",
    "\n",
    "\n"
   ]
  },
  {
   "cell_type": "code",
   "execution_count": 11,
   "id": "2e62df72",
   "metadata": {},
   "outputs": [],
   "source": [
    "# pickle_in = open(\"X.pickle\",\"rb\")\n",
    "# X = pickle.load(pickle_in)"
   ]
  },
  {
   "cell_type": "code",
   "execution_count": 12,
   "id": "de37f378",
   "metadata": {},
   "outputs": [],
   "source": [
    "# X[1]"
   ]
  },
  {
   "cell_type": "code",
   "execution_count": null,
   "id": "69f3b387",
   "metadata": {},
   "outputs": [],
   "source": []
  },
  {
   "cell_type": "code",
   "execution_count": 13,
   "id": "b116c89b",
   "metadata": {},
   "outputs": [],
   "source": [
    "# print(\"Type of X:\", type(X))\n",
    "# print(\"Type of y:\", type(y))"
   ]
  },
  {
   "cell_type": "code",
   "execution_count": null,
   "id": "5dc4385b",
   "metadata": {},
   "outputs": [],
   "source": []
  },
  {
   "cell_type": "code",
   "execution_count": 14,
   "id": "4f55f2f0",
   "metadata": {},
   "outputs": [],
   "source": [
    "# print(img_array)"
   ]
  },
  {
   "cell_type": "code",
   "execution_count": null,
   "id": "b0ec27b4",
   "metadata": {},
   "outputs": [],
   "source": []
  },
  {
   "cell_type": "code",
   "execution_count": null,
   "id": "2edf0945",
   "metadata": {},
   "outputs": [],
   "source": []
  },
  {
   "cell_type": "code",
   "execution_count": 15,
   "id": "d412e5aa",
   "metadata": {},
   "outputs": [],
   "source": [
    "# import tensorflow as tf\n",
    "# from tensorflow.keras.models import Sequential\n",
    "# from tensorflow.keras.layers import Dense, Activation, Dropout, Flatten, Conv2D,MaxPooling2D\n",
    "# from tensorflow.keras.preprocessing.image import ImageDataGenerator\n",
    "# from tensorflow.keras.datasets import cifar10\n",
    "# import pickle\n",
    "# from tensorflow.keras.callbacks import TensorBoard\n",
    "# import time\n",
    "\n",
    "\n",
    "# # NAME =\" Catas-vs-dogs-cnn-64x2-{}\".format(int(time.time()))\n",
    "\n",
    "# # gpu_options = tf.GPUOptions(per_process_gpu_memory_fraction=0.333)\n",
    "# # sess = tf.session(config=tf.ConfigProto(gpu_options=gpu_options))\n",
    "\n",
    "\n",
    "# X = pickle.load(open(\"X.pickle\",\"rb\"))\n",
    "# y = pickle.load(open(\"y.pickle\",\"rb\"))\n",
    "\n",
    "\n",
    "\n",
    "\n",
    "# X = X/255\n",
    "\n",
    "\n",
    "# dense_layers_options = [0]\n",
    "# layer_size_options = [32]\n",
    "# conv_layers_options = [2]\n",
    "\n",
    "# for dense_layers in dense_layers_options:\n",
    "#     for layer_size in layer_size_options:\n",
    "#         for conv_layers in conv_layers_options:\n",
    "#             NAME = \"{}-conv-{}-nodes-{}-dense-{}\".format(conv_layers, layer_size, dense_layers, int(time.time()))\n",
    "#             tensorboard = TensorBoard(log_dir='logs/{}'.format(NAME))\n",
    "#             print(NAME)\n",
    "#             model = Sequential()\n",
    "\n",
    "#             model.add(Conv2D(layer_size, (3, 3), input_shape=X.shape[1:]))\n",
    "#             model.add(Activation(\"relu\"))\n",
    "#             model.add(MaxPooling2D(pool_size=(2, 2)))\n",
    "            \n",
    "#             for l in range(conv_layers - 1):\n",
    "#                 model.add(Conv2D(layer_size, (3, 3)))\n",
    "#                 model.add(Activation(\"relu\"))\n",
    "#                 model.add(MaxPooling2D(pool_size=(2, 2)))\n",
    "            \n",
    "#             model.add(Flatten())\n",
    "\n",
    "#             for l in range(dense_layers):\n",
    "#                 model.add(Dense(512))\n",
    "#                 model.add(Activation('relu'))\n",
    "\n",
    "#             model.add(Dense(1))\n",
    "#             model.add(Activation('sigmoid'))\n",
    "\n",
    "#             model.compile(loss=\"binary_crossentropy\",\n",
    "#                           optimizer=\"adam\",\n",
    "#                           metrics=[\"accuracy\"])\n",
    "\n",
    "#             model.fit(X, y, batch_size=32, epochs=10, validation_split=0.2, callbacks=[tensorboard])\n",
    "# model.save(\"64x3-CNN-MODEL\")\n"
   ]
  },
  {
   "cell_type": "code",
   "execution_count": null,
   "id": "d826ace3",
   "metadata": {},
   "outputs": [],
   "source": []
  },
  {
   "cell_type": "code",
   "execution_count": null,
   "id": "abc24279",
   "metadata": {},
   "outputs": [],
   "source": []
  },
  {
   "cell_type": "code",
   "execution_count": 23,
   "id": "db347050",
   "metadata": {},
   "outputs": [],
   "source": [
    "import cv2\n",
    "import tensorflow as tf\n",
    "\n",
    "Categories = [\"Dog\", \"Cat\"]\n",
    "def prepare(filepath):\n",
    "    IMG_SIZE = 50\n",
    "    img_array = cv2.imread(filepath, cv2.IMREAD_GRAYSCALE)\n",
    "    new_array = cv2.resize(img_array, (IMG_SIZE, IMG_SIZE))\n",
    "    \n",
    "    return new_array.reshape(-1, IMG_SIZE, IMG_SIZE, 1)\n",
    "\n",
    "model = tf.keras.models.load_model(\"64x3-CNN-MODEL\")"
   ]
  },
  {
   "cell_type": "code",
   "execution_count": 26,
   "id": "6da5789e",
   "metadata": {},
   "outputs": [
    {
     "name": "stdout",
     "output_type": "stream",
     "text": [
      "1/1 [==============================] - 0s 19ms/step\n",
      "Dog\n"
     ]
    }
   ],
   "source": [
    "prediction = model.predict([prepare('Dog.jpg')])\n",
    "print(Categories[int(prediction[0][0])])"
   ]
  },
  {
   "cell_type": "code",
   "execution_count": 27,
   "id": "0c91695c",
   "metadata": {},
   "outputs": [
    {
     "name": "stdout",
     "output_type": "stream",
     "text": [
      "1/1 [==============================] - 0s 34ms/step\n",
      "Cat\n"
     ]
    }
   ],
   "source": [
    "prediction = model.predict([prepare('Cat.jpg')])\n",
    "print(Categories[int(prediction[0][0])])"
   ]
  },
  {
   "cell_type": "code",
   "execution_count": null,
   "id": "3c46921e",
   "metadata": {},
   "outputs": [],
   "source": []
  },
  {
   "cell_type": "code",
   "execution_count": null,
   "id": "df01ba93",
   "metadata": {},
   "outputs": [],
   "source": []
  },
  {
   "cell_type": "code",
   "execution_count": null,
   "id": "8ccbf2ae",
   "metadata": {},
   "outputs": [],
   "source": []
  },
  {
   "cell_type": "code",
   "execution_count": null,
   "id": "cfcba18a",
   "metadata": {},
   "outputs": [],
   "source": []
  },
  {
   "cell_type": "code",
   "execution_count": null,
   "id": "d08dfac7",
   "metadata": {},
   "outputs": [],
   "source": []
  },
  {
   "cell_type": "code",
   "execution_count": null,
   "id": "76703841",
   "metadata": {},
   "outputs": [],
   "source": []
  }
 ],
 "metadata": {
  "kernelspec": {
   "display_name": "Python 3 (ipykernel)",
   "language": "python",
   "name": "python3"
  },
  "language_info": {
   "codemirror_mode": {
    "name": "ipython",
    "version": 3
   },
   "file_extension": ".py",
   "mimetype": "text/x-python",
   "name": "python",
   "nbconvert_exporter": "python",
   "pygments_lexer": "ipython3",
   "version": "3.11.4"
  }
 },
 "nbformat": 4,
 "nbformat_minor": 5
}
